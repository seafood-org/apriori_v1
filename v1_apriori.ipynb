{
 "cells": [
  {
   "cell_type": "markdown",
   "id": "7c0c8fd5-d437-43ac-be33-564ab9878f37",
   "metadata": {},
   "source": [
    "# Read the data"
   ]
  },
  {
   "cell_type": "code",
   "execution_count": 1,
   "id": "548ee2f0-9fb4-4efa-9d91-6931b4024d33",
   "metadata": {},
   "outputs": [],
   "source": [
    "# read the data\n",
    "data = sc.textFile(\"data/mushroom.dat\")"
   ]
  },
  {
   "cell_type": "markdown",
   "id": "93c4ebfe-6bc0-44f8-a0bf-b574f1cf667e",
   "metadata": {},
   "source": [
    "# Set the Configurations"
   ]
  },
  {
   "cell_type": "code",
   "execution_count": 2,
   "id": "46b38f8d-43c6-4b51-aba6-9855bc24fa87",
   "metadata": {},
   "outputs": [
    {
     "name": "stdout",
     "output_type": "stream",
     "text": [
      "1624\n"
     ]
    }
   ],
   "source": [
    "# configurations\n",
    "SUPPORT = int(0.2*data.count())\n",
    "print(SUPPORT)"
   ]
  },
  {
   "cell_type": "markdown",
   "id": "51524766-2601-44c6-af4f-7dfd44ca1167",
   "metadata": {},
   "source": [
    "# Compute L1"
   ]
  },
  {
   "cell_type": "code",
   "execution_count": 3,
   "id": "f8ac2921-0b78-4a0e-be26-43526b2f94e2",
   "metadata": {},
   "outputs": [
    {
     "name": "stdout",
     "output_type": "stream",
     "text": [
      "43\n"
     ]
    }
   ],
   "source": [
    "# compute frequent-1 itemset\n",
    "\n",
    "# Create the rdd which stores all the transactions\n",
    "transactions = data.map(lambda line: line.strip().split())\n",
    "\n",
    "# Merge all the transactions together\n",
    "items=transactions.flatMap(lambda x:x)\n",
    "\n",
    "# count the frequency of all the items in the merged rdd list\n",
    "item_counts=items.map(lambda x:(x, 1)).reduceByKey(lambda x,y:x+y)\n",
    "\n",
    "# get the frequent-1 itemset\n",
    "L1=item_counts.filter(lambda x:x[1]>=SUPPORT).map(lambda x:x[0])\n",
    "print(L1.count())"
   ]
  },
  {
   "cell_type": "markdown",
   "id": "e9697fe6-7200-42b9-87f8-70fa31554fd1",
   "metadata": {},
   "source": [
    "# Optimize by eliminating infrequent items in the itemsets"
   ]
  },
  {
   "cell_type": "code",
   "execution_count": 4,
   "id": "2c3e3ffc-a630-42eb-aa59-0e8974feef28",
   "metadata": {},
   "outputs": [
    {
     "data": {
      "text/plain": [
       "186852"
      ]
     },
     "execution_count": 4,
     "metadata": {},
     "output_type": "execute_result"
    }
   ],
   "source": [
    "transactions.flatMap(lambda x:x).count()"
   ]
  },
  {
   "cell_type": "code",
   "execution_count": 5,
   "id": "a665c8e0-bf61-4590-8545-4bd7e0c1f112",
   "metadata": {},
   "outputs": [],
   "source": [
    "freq=sc.broadcast(set(L1.collect()))"
   ]
  },
  {
   "cell_type": "code",
   "execution_count": 6,
   "id": "5560d214-ed29-402c-8f96-c10820e034e4",
   "metadata": {},
   "outputs": [
    {
     "data": {
      "text/plain": [
       "156514"
      ]
     },
     "execution_count": 6,
     "metadata": {},
     "output_type": "execute_result"
    }
   ],
   "source": [
    "# eliminate all the infrequent items\n",
    "def purge_itemset(itemsets):\n",
    "    # Only keep frequent items in \n",
    "    return [item for item in itemsets if item in freq.value]\n",
    "transactions=transactions.map(purge_itemset)\n",
    "transactions.flatMap(lambda x:x).count()"
   ]
  },
  {
   "cell_type": "markdown",
   "id": "2f8c14cf-59d4-4d8c-8db6-3682cb921f4f",
   "metadata": {
    "tags": []
   },
   "source": [
    "# Three join_and_pruning methods(generate $C_{k+1}$ from $L_{k}$ ) are implemented. Plz only use one of them"
   ]
  },
  {
   "cell_type": "code",
   "execution_count": 20,
   "id": "576be313-3134-4520-80f3-1a4346d89e26",
   "metadata": {},
   "outputs": [
    {
     "name": "stdout",
     "output_type": "stream",
     "text": [
      "[['200', '400', '300'], ['108', '200', '400'], ['108', '200', '300']]\n"
     ]
    }
   ],
   "source": [
    "# Small data algorithm, without pruning\n",
    "def join_and_pruning(L_k):\n",
    "    # Determine k from the first itemset if L_k is not empty\n",
    "    if not L_k:\n",
    "        return []\n",
    "\n",
    "    k = len(L_k[0])\n",
    "\n",
    "    # Generate candidate (k+1)-itemsets by joining k-itemsets\n",
    "    candidate_set = set()\n",
    "    n = len(L_k)\n",
    "    for i in range(n):\n",
    "        for j in range(i + 1, n):\n",
    "            set_i = set(L_k[i])\n",
    "            set_j = set(L_k[j])\n",
    "            union_set = set_i | set_j\n",
    "            if len(union_set) == k + 1:\n",
    "                # Store as a frozen set to allow hashing and later convert to list\n",
    "                candidate_set.add(frozenset(union_set))\n",
    "\n",
    "    # Convert frozen sets back to lists\n",
    "    candidates = [list(item) for item in candidate_set]\n",
    "\n",
    "    return candidates\n",
    "\n",
    "# Example usage\n",
    "L_k = [['108', '200'], ['108', '300'], ['200', '300'], ['200', '400']]\n",
    "result = join_and_pruning(L_k)\n",
    "print(result)\n"
   ]
  },
  {
   "cell_type": "code",
   "execution_count": 22,
   "id": "fb02e344-dda8-4a29-9dbe-87f556274708",
   "metadata": {},
   "outputs": [
    {
     "name": "stdout",
     "output_type": "stream",
     "text": [
      "[['108', '200', '300']]\n"
     ]
    }
   ],
   "source": [
    "# Small data algorithm, with pruning\n",
    "\n",
    "def join_and_pruning(L_k):\n",
    "    # Determine k from the first itemset if L_k is not empty\n",
    "    if not L_k:\n",
    "        return []\n",
    "\n",
    "    k = len(L_k[0])\n",
    "    threshold = k * (k + 1) // 2  # Calculate the threshold for pruning\n",
    "\n",
    "    # Generate candidate (k+1)-itemsets by joining k-itemsets\n",
    "    candidate_dict = {}\n",
    "    n = len(L_k)\n",
    "    for i in range(n):\n",
    "        for j in range(i + 1, n):\n",
    "            set_i = set(L_k[i])\n",
    "            set_j = set(L_k[j])\n",
    "            union_set = set_i | set_j\n",
    "            if len(union_set) == k + 1:\n",
    "                union_frozenset = frozenset(union_set)\n",
    "                if union_frozenset in candidate_dict:\n",
    "                    candidate_dict[union_frozenset] += 1\n",
    "                else:\n",
    "                    candidate_dict[union_frozenset] = 1\n",
    "\n",
    "    # Filter the candidates based on the threshold\n",
    "    filtered_candidates = [list(key) for key, count in candidate_dict.items() if count >= threshold]\n",
    "    return filtered_candidates\n",
    "L_k = [['108', '200'], ['108', '300'], ['200', '300'], ['200', '400']]\n",
    "result = join_and_pruning(L_k)\n",
    "print(result)"
   ]
  },
  {
   "cell_type": "code",
   "execution_count": 23,
   "id": "b7af4c23-0a0e-47e5-803d-7d8b688523d1",
   "metadata": {},
   "outputs": [
    {
     "name": "stdout",
     "output_type": "stream",
     "text": [
      "[['108', '200', '300']]\n"
     ]
    }
   ],
   "source": [
    "# Big data algorithm, with pruning\n",
    "def join_and_pruning(L_k):\n",
    "    if not L_k:\n",
    "        return sc.parallelize([])  # Return an empty RDD if L_k is empty\n",
    "\n",
    "    k = len(L_k[0])\n",
    "    threshold = k * (k + 1) // 2  # Calculate the threshold for pruning\n",
    "\n",
    "    # Parallelize the list and use flatMap to generate (k+1)-itemsets\n",
    "    rdd = sc.parallelize(L_k)\n",
    "    candidate_rdd = rdd.flatMap(lambda x: [\n",
    "        (frozenset(x).union(frozenset(y)), 1) \n",
    "        for y in L_k if len(frozenset(x).union(frozenset(y))) == k + 1\n",
    "    ])\n",
    "\n",
    "    # Reduce by key to count occurrences of each (k+1)-itemset\n",
    "    candidate_count_rdd = candidate_rdd.reduceByKey(lambda a, b: a + b)\n",
    "\n",
    "    # Filter candidates based on the threshold\n",
    "    filtered_candidates_rdd = candidate_count_rdd.filter(lambda x: x[1] >= threshold)\n",
    "\n",
    "    # Convert each frozenset back to list\n",
    "    final_candidates_rdd = filtered_candidates_rdd.map(lambda x: list(x[0]))\n",
    "\n",
    "    return final_candidates_rdd.collect()\n",
    "\n",
    "# Example usage\n",
    "L_k = [['108', '200'], ['108', '300'], ['200', '300'], ['200', '400']]\n",
    "rdd_result = join_and_pruning(L_k)\n",
    "print(rdd_result)\n"
   ]
  },
  {
   "cell_type": "markdown",
   "id": "ed9e2c36-b1cc-458a-a69c-1c5085d16794",
   "metadata": {},
   "source": [
    "# Generate $L_{k}$ from $C_{k}$"
   ]
  },
  {
   "cell_type": "code",
   "execution_count": 10,
   "id": "5b12742e-d673-4b7f-9320-5a56cd3a2258",
   "metadata": {},
   "outputs": [],
   "source": [
    "itemset_broadcast=sc.broadcast(transactions.map(lambda x: set(x)).collect())\n",
    "def support_count(itemset):\n",
    "    # Count how many transactions contain the itemset\n",
    "    count = sum(1 for transaction in itemset_broadcast.value if set(itemset).issubset(transaction))\n",
    "    return (itemset, count)\n",
    "def get_frequent_set(C_k):\n",
    "    C_k_rdd=sc.parallelize(C_k)\n",
    "    # Map and filter step\n",
    "    L_k = C_k_rdd \\\n",
    "        .map(support_count) \\\n",
    "        .filter(lambda x: x[1] >= SUPPORT) \\\n",
    "        .map(lambda x: x[0]) \\\n",
    "        .collect()\n",
    "    return L_k"
   ]
  },
  {
   "cell_type": "markdown",
   "id": "311ff949-9e88-4492-88df-4a992c36a261",
   "metadata": {},
   "source": [
    "# Finally do the job"
   ]
  },
  {
   "cell_type": "code",
   "execution_count": 27,
   "id": "d2b7c2be-47a2-4b79-977a-5f93ade7d97d",
   "metadata": {},
   "outputs": [
    {
     "name": "stdout",
     "output_type": "stream",
     "text": [
      "k=2\n",
      "length of C_2=903, elapsed time=0.24 seconds\n",
      "length of L_2=376, elapsed time=0.41 seconds\n",
      "k=3\n",
      "length of C_3=1764, elapsed time=0.22 seconds\n",
      "length of L_3=1472, elapsed time=0.53 seconds\n",
      "k=4\n",
      "length of C_4=4702, elapsed time=0.32 seconds\n"
     ]
    },
    {
     "name": "stderr",
     "output_type": "stream",
     "text": [
      "                                                                                \r"
     ]
    },
    {
     "name": "stdout",
     "output_type": "stream",
     "text": [
      "length of L_4=3565, elapsed time=1.05 seconds\n",
      "k=5\n",
      "length of C_5=6579, elapsed time=0.48 seconds\n"
     ]
    },
    {
     "name": "stderr",
     "output_type": "stream",
     "text": [
      "                                                                                \r"
     ]
    },
    {
     "name": "stdout",
     "output_type": "stream",
     "text": [
      "length of L_5=6289, elapsed time=1.45 seconds\n",
      "k=6\n"
     ]
    },
    {
     "name": "stderr",
     "output_type": "stream",
     "text": [
      "                                                                                \r"
     ]
    },
    {
     "name": "stdout",
     "output_type": "stream",
     "text": [
      "length of C_6=8912, elapsed time=1.43 seconds\n"
     ]
    },
    {
     "name": "stderr",
     "output_type": "stream",
     "text": [
      "                                                                                \r"
     ]
    },
    {
     "name": "stdout",
     "output_type": "stream",
     "text": [
      "length of L_6=8832, elapsed time=1.94 seconds\n",
      "k=7\n"
     ]
    },
    {
     "name": "stderr",
     "output_type": "stream",
     "text": [
      "                                                                                \r"
     ]
    },
    {
     "name": "stdout",
     "output_type": "stream",
     "text": [
      "length of C_7=10177, elapsed time=2.96 seconds\n"
     ]
    },
    {
     "name": "stderr",
     "output_type": "stream",
     "text": [
      "                                                                                \r"
     ]
    },
    {
     "name": "stdout",
     "output_type": "stream",
     "text": [
      "length of L_7=10169, elapsed time=2.25 seconds\n",
      "k=8\n"
     ]
    },
    {
     "name": "stderr",
     "output_type": "stream",
     "text": [
      "                                                                                \r"
     ]
    },
    {
     "name": "stdout",
     "output_type": "stream",
     "text": [
      "length of C_8=9498, elapsed time=4.17 seconds\n"
     ]
    },
    {
     "name": "stderr",
     "output_type": "stream",
     "text": [
      "                                                                                \r"
     ]
    },
    {
     "name": "stdout",
     "output_type": "stream",
     "text": [
      "length of L_8=9492, elapsed time=2.19 seconds\n",
      "k=9\n"
     ]
    },
    {
     "name": "stderr",
     "output_type": "stream",
     "text": [
      "                                                                                \r"
     ]
    },
    {
     "name": "stdout",
     "output_type": "stream",
     "text": [
      "length of C_9=7010, elapsed time=3.71 seconds\n"
     ]
    },
    {
     "name": "stderr",
     "output_type": "stream",
     "text": [
      "                                                                                \r"
     ]
    },
    {
     "name": "stdout",
     "output_type": "stream",
     "text": [
      "length of L_9=7010, elapsed time=1.75 seconds\n",
      "k=10\n"
     ]
    },
    {
     "name": "stderr",
     "output_type": "stream",
     "text": [
      "                                                                                \r"
     ]
    },
    {
     "name": "stdout",
     "output_type": "stream",
     "text": [
      "length of C_10=4004, elapsed time=2.07 seconds\n"
     ]
    },
    {
     "name": "stderr",
     "output_type": "stream",
     "text": [
      "                                                                                \r"
     ]
    },
    {
     "name": "stdout",
     "output_type": "stream",
     "text": [
      "length of L_10=4004, elapsed time=1.17 seconds\n",
      "k=11\n"
     ]
    },
    {
     "name": "stderr",
     "output_type": "stream",
     "text": [
      "                                                                                \r"
     ]
    },
    {
     "name": "stdout",
     "output_type": "stream",
     "text": [
      "length of C_11=1729, elapsed time=0.87 seconds\n",
      "length of L_11=1729, elapsed time=0.67 seconds\n",
      "k=12\n",
      "length of C_12=546, elapsed time=0.32 seconds\n",
      "length of L_12=546, elapsed time=0.41 seconds\n",
      "k=13\n",
      "length of C_13=119, elapsed time=0.23 seconds\n",
      "length of L_13=119, elapsed time=0.31 seconds\n",
      "k=14\n",
      "length of C_14=16, elapsed time=0.21 seconds\n",
      "length of L_14=16, elapsed time=0.18 seconds\n",
      "k=15\n",
      "length of C_15=1, elapsed time=0.18 seconds\n",
      "length of L_15=1, elapsed time=0.11 seconds\n",
      "k=16\n",
      "length of C_16=0, elapsed time=0.18 seconds\n",
      "length of L_16=0, elapsed time=0.09 seconds\n"
     ]
    }
   ],
   "source": [
    "import time\n",
    "\n",
    "L_k = [[item] for item in L1.collect()]\n",
    "k = 2\n",
    "\n",
    "while L_k:\n",
    "    print(f'k={k}')\n",
    "    \n",
    "    start_time = time.time()  # Start timing for join_and_pruning\n",
    "    C_k = join_and_pruning(L_k)\n",
    "    end_time = time.time()  # End timing for join_and_pruning\n",
    "    print(f'length of C_{k}={len(C_k)}, elapsed time={end_time - start_time:.2f} seconds')\n",
    "    \n",
    "    start_time = time.time()  # Start timing for get_frequent_set\n",
    "    L_k = get_frequent_set(C_k)\n",
    "    end_time = time.time()  # End timing for get_frequent_set\n",
    "    print(f'length of L_{k}={len(L_k)}, elapsed time={end_time - start_time:.2f} seconds')\n",
    "    \n",
    "    k += 1\n"
   ]
  },
  {
   "cell_type": "code",
   "execution_count": null,
   "id": "b607e966-4256-4553-8c29-703b27cdfac9",
   "metadata": {},
   "outputs": [],
   "source": []
  }
 ],
 "metadata": {
  "kernelspec": {
   "display_name": "Python 3 (ipykernel)",
   "language": "python",
   "name": "python3"
  },
  "language_info": {
   "codemirror_mode": {
    "name": "ipython",
    "version": 3
   },
   "file_extension": ".py",
   "mimetype": "text/x-python",
   "name": "python",
   "nbconvert_exporter": "python",
   "pygments_lexer": "ipython3",
   "version": "3.9.13"
  }
 },
 "nbformat": 4,
 "nbformat_minor": 5
}
