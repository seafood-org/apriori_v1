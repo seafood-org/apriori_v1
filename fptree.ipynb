{
 "cells": [
  {
   "metadata": {},
   "cell_type": "code",
   "outputs": [],
   "execution_count": null,
   "source": [
    "from pyspark.sql import SparkSession\n",
    "from pyspark.sql import Row\n",
    "from pyspark.ml.fpm import FPGrowth\n",
    "import time\n",
    "\n",
    "\n",
    "data = sc.textFile(\"hdfs://vm1:9000/user/azureuser/data/mushroom.dat\")\n",
    "\n",
    "transactions = data.map(lambda line: line.strip().split()).repartition(16)\n",
    "\n",
    "transaction_count = transactions.count()\n",
    "print(f\"Total number of transactions: {transaction_count}\")\n",
    "\n",
    "\n",
    "# 转换为 DataFrame\n",
    "df = transactions.map(lambda items: Row(items=items)).toDF()\n",
    "\n",
    "min_support = 0.2\n",
    "min_confidence = 0.6\n",
    "\n",
    "start_time = time.time()\n",
    "\n",
    "fpGrowth = FPGrowth(itemsCol=\"items\", minSupport=min_support, minConfidence=min_confidence)\n",
    "\n",
    "model = fpGrowth.fit(df)\n",
    "\n",
    "freq_itemsets = model.freqItemsets\n",
    "\n",
    "freq_itemsets_count = freq_itemsets.rdd.map(lambda row: (len(row.items), 1)).reduceByKey(lambda a, b: a + b)\n",
    "freq_itemsets_count = freq_itemsets_count.collect()\n",
    "\n",
    "print(\"Frequent Itemsets Count by Length:\")\n",
    "for length, count in sorted(freq_itemsets_count):\n",
    "    print(f\"Length {length}: {count}\")\n",
    "\n",
    "end_time = time.time()\n",
    "\n",
    "print(f\"Total execution time: {end_time - start_time} seconds\")"
   ],
   "id": "37b1ae9cad52a788"
  }
 ],
 "metadata": {
  "kernelspec": {
   "display_name": "Python 3",
   "language": "python",
   "name": "python3"
  },
  "language_info": {
   "codemirror_mode": {
    "name": "ipython",
    "version": 2
   },
   "file_extension": ".py",
   "mimetype": "text/x-python",
   "name": "python",
   "nbconvert_exporter": "python",
   "pygments_lexer": "ipython2",
   "version": "2.7.6"
  }
 },
 "nbformat": 4,
 "nbformat_minor": 5
}
