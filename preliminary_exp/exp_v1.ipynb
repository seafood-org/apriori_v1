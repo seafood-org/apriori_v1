{
 "cells": [
  {
   "cell_type": "markdown",
   "id": "7c0c8fd5-d437-43ac-be33-564ab9878f37",
   "metadata": {},
   "source": [
    "# Read the data"
   ]
  },
  {
   "cell_type": "code",
   "execution_count": 1,
   "id": "548ee2f0-9fb4-4efa-9d91-6931b4024d33",
   "metadata": {},
   "outputs": [],
   "source": [
    "data_file = \"data/mushroom/data_2_10.dat\"\n",
    "\n",
    "sup = 0.2\n",
    "\n",
    "# read the data\n",
    "data = sc.textFile(data_file)\n",
    "\n",
    "# configurations\n",
    "SUPPORT = int(sup * data.count())"
   ]
  },
  {
   "cell_type": "markdown",
   "id": "e9697fe6-7200-42b9-87f8-70fa31554fd1",
   "metadata": {},
   "source": [
    "# Optimize by eliminating infrequent items in the itemsets"
   ]
  },
  {
   "cell_type": "code",
   "execution_count": 2,
   "id": "5560d214-ed29-402c-8f96-c10820e034e4",
   "metadata": {},
   "outputs": [
    {
     "name": "stdout",
     "output_type": "stream",
     "text": [
      "Time for computing frequent-1 itemset:  0.25696778297424316\n"
     ]
    }
   ],
   "source": [
    "import time\n",
    "\n",
    "# compute frequent-1 itemset\n",
    "\n",
    "# Create the rdd which stores all the transactions\n",
    "transactions = data.map(lambda line: line.strip().split())\n",
    "\n",
    "# Merge all the transactions together\n",
    "items=transactions.flatMap(lambda x:x)\n",
    "\n",
    "# calculate the time\n",
    "start_time_1 = time.time()\n",
    "\n",
    "# count the frequency of all the items in the merged rdd list\n",
    "item_counts=items.map(lambda x:(x, 1)).reduceByKey(lambda x,y:x+y)\n",
    "\n",
    "# get the frequent-1 itemset\n",
    "L1=item_counts.filter(lambda x:x[1]>=SUPPORT).map(lambda x:x[0])\n",
    "\n",
    "# print(L1.count())\n",
    "# transactions.flatMap(lambda x:x).count()\n",
    "\n",
    "freq=sc.broadcast(set(L1.collect()))\n",
    "\n",
    "end_time_1 = time.time()\n",
    "\n",
    "elapsed_time_1 = end_time_1 - start_time_1\n",
    "\n",
    "print(\"Time for computing frequent-1 itemset: \", elapsed_time_1)\n"
   ]
  },
  {
   "cell_type": "code",
   "execution_count": 3,
   "id": "f05968d6",
   "metadata": {},
   "outputs": [
    {
     "data": {
      "text/plain": [
       "15707"
      ]
     },
     "execution_count": 3,
     "metadata": {},
     "output_type": "execute_result"
    }
   ],
   "source": [
    "\n",
    "\n",
    "# eliminate all the infrequent items\n",
    "def purge_itemset(itemsets):\n",
    "    # Only keep frequent items in \n",
    "    return [item for item in itemsets if item in freq.value]\n",
    "transactions=transactions.map(purge_itemset)\n",
    "transactions.flatMap(lambda x:x).count()"
   ]
  },
  {
   "cell_type": "code",
   "execution_count": 4,
   "id": "b7af4c23-0a0e-47e5-803d-7d8b688523d1",
   "metadata": {},
   "outputs": [],
   "source": [
    "# Big data algorithm, with pruning\n",
    "def join_and_pruning(L_k):\n",
    "    if not L_k:\n",
    "        return sc.parallelize([])  # Return an empty RDD if L_k is empty\n",
    "\n",
    "    k = len(L_k[0])\n",
    "    threshold = k * (k + 1) // 2  # Calculate the threshold for pruning\n",
    "\n",
    "    # Parallelize the list and use flatMap to generate (k+1)-itemsets\n",
    "    rdd = sc.parallelize(L_k)\n",
    "    candidate_rdd = rdd.flatMap(lambda x: [\n",
    "        (frozenset(x).union(frozenset(y)), 1) \n",
    "        for y in L_k if len(frozenset(x).union(frozenset(y))) == k + 1\n",
    "    ])\n",
    "\n",
    "    # Reduce by key to count occurrences of each (k+1)-itemset\n",
    "    candidate_count_rdd = candidate_rdd.reduceByKey(lambda a, b: a + b)\n",
    "\n",
    "    # Filter candidates based on the threshold\n",
    "    filtered_candidates_rdd = candidate_count_rdd.filter(lambda x: x[1] >= threshold)\n",
    "\n",
    "    # Convert each frozenset back to list\n",
    "    final_candidates_rdd = filtered_candidates_rdd.map(lambda x: list(x[0]))\n",
    "\n",
    "    return final_candidates_rdd.collect()\n",
    "\n",
    "# Example usage\n",
    "# L_k = [['108', '200'], ['108', '300'], ['200', '300'], ['200', '400']]\n",
    "# rdd_result = join_and_pruning(L_k)\n",
    "# print(rdd_result)\n"
   ]
  },
  {
   "cell_type": "markdown",
   "id": "ed9e2c36-b1cc-458a-a69c-1c5085d16794",
   "metadata": {},
   "source": [
    "# Generate $L_{k}$ from $C_{k}$"
   ]
  },
  {
   "cell_type": "code",
   "execution_count": 5,
   "id": "5b12742e-d673-4b7f-9320-5a56cd3a2258",
   "metadata": {},
   "outputs": [],
   "source": [
    "itemset_broadcast=sc.broadcast(transactions.map(lambda x: set(x)).collect())\n",
    "\n",
    "def support_count(itemset):\n",
    "    # Count how many transactions contain the itemset\n",
    "    count = sum(1 for transaction in itemset_broadcast.value if set(itemset).issubset(transaction))\n",
    "    return (itemset, count)\n",
    "\n",
    "def get_frequent_set(C_k):\n",
    "    C_k_rdd=sc.parallelize(C_k)\n",
    "    # Map and filter step\n",
    "    L_k = C_k_rdd \\\n",
    "        .map(support_count) \\\n",
    "        .filter(lambda x: x[1] >= SUPPORT) \\\n",
    "        .map(lambda x: x[0]) \\\n",
    "        .collect()\n",
    "    return L_k"
   ]
  },
  {
   "cell_type": "markdown",
   "id": "311ff949-9e88-4492-88df-4a992c36a261",
   "metadata": {},
   "source": [
    "# Finally do the job"
   ]
  },
  {
   "cell_type": "code",
   "execution_count": 6,
   "id": "d2b7c2be-47a2-4b79-977a-5f93ade7d97d",
   "metadata": {},
   "outputs": [
    {
     "name": "stdout",
     "output_type": "stream",
     "text": [
      "k=2\n",
      "k=3\n",
      "k=4\n",
      "k=5\n"
     ]
    },
    {
     "name": "stderr",
     "output_type": "stream",
     "text": [
      "                                                                                \r"
     ]
    },
    {
     "name": "stdout",
     "output_type": "stream",
     "text": [
      "k=6\n"
     ]
    },
    {
     "name": "stderr",
     "output_type": "stream",
     "text": [
      "                                                                                \r"
     ]
    },
    {
     "name": "stdout",
     "output_type": "stream",
     "text": [
      "k=7\n"
     ]
    },
    {
     "name": "stderr",
     "output_type": "stream",
     "text": [
      "                                                                                \r"
     ]
    },
    {
     "name": "stdout",
     "output_type": "stream",
     "text": [
      "k=8\n"
     ]
    },
    {
     "name": "stderr",
     "output_type": "stream",
     "text": [
      "                                                                                \r"
     ]
    },
    {
     "name": "stdout",
     "output_type": "stream",
     "text": [
      "k=9\n"
     ]
    },
    {
     "name": "stderr",
     "output_type": "stream",
     "text": [
      "                                                                                \r"
     ]
    },
    {
     "name": "stdout",
     "output_type": "stream",
     "text": [
      "k=10\n"
     ]
    },
    {
     "name": "stderr",
     "output_type": "stream",
     "text": [
      "                                                                                \r"
     ]
    },
    {
     "name": "stdout",
     "output_type": "stream",
     "text": [
      "k=11\n"
     ]
    },
    {
     "name": "stderr",
     "output_type": "stream",
     "text": [
      "                                                                                \r"
     ]
    },
    {
     "name": "stdout",
     "output_type": "stream",
     "text": [
      "k=12\n",
      "k=13\n",
      "k=14\n",
      "k=15\n",
      "k=16\n"
     ]
    }
   ],
   "source": [
    "import time\n",
    "\n",
    "L_k = [[item] for item in L1.collect()]\n",
    "k = 2\n",
    "\n",
    "# store the elapsed time for each iteration\n",
    "time_C = [0]\n",
    "time_L = [elapsed_time_1]\n",
    "\n",
    "# store the number of frequent itemsets for each iteration\n",
    "num_frequent_itemsets_C = [item_counts.map(lambda x:x[0]).collect()]\n",
    "num_frequent_itemsets_L = [len(L_k)]\n",
    "\n",
    "while L_k:\n",
    "    print(f'k={k}')\n",
    "    \n",
    "    start_time_C = time.time()  # Start timing for join_and_pruning\n",
    "    \n",
    "    C_k = join_and_pruning(L_k)\n",
    "    \n",
    "    end_time_C = time.time()  # End timing for join_and_pruning\n",
    "    elapsed_time_C = end_time_C - start_time_C\n",
    "    time_C.append(elapsed_time_C)\n",
    "    num_frequent_itemsets_C.append(len(C_k))\n",
    "    \n",
    "    \n",
    "    start_time_L = time.time()  # Start timing for get_frequent_set\n",
    "    \n",
    "    L_k = get_frequent_set(C_k)\n",
    "    \n",
    "    end_time_L = time.time()  # End timing for get_frequent_set\n",
    "    elapsed_time_L = end_time_L - start_time_L\n",
    "    time_L.append(elapsed_time_L)\n",
    "    num_frequent_itemsets_L.append(len(L_k))\n",
    "    \n",
    "    k += 1\n"
   ]
  },
  {
   "cell_type": "code",
   "execution_count": 7,
   "id": "b607e966-4256-4553-8c29-703b27cdfac9",
   "metadata": {},
   "outputs": [
    {
     "name": "stdout",
     "output_type": "stream",
     "text": [
      "Time for computing C_k:  [0, 0.118, 0.123, 0.254, 1.412, 7.348, 13.853, 18.12, 16.648, 8.502, 2.997, 0.592, 0.136, 0.137, 0.128, 0.132]\n",
      "Time for computing L_k:  [0.257, 0.048, 0.125, 0.189, 0.31, 0.45, 0.425, 0.498, 0.311, 0.214, 0.134, 0.085, 0.078, 0.078, 0.061, 0.068]\n",
      "Number of frequent itemsets for C_k:  [15707, 903, 1816, 4912, 6686, 8977, 10214, 9515, 7012, 4004, 1729, 546, 119, 16, 1, 0]\n",
      "Number of frequent itemsets for L_k:  [43, 377, 1483, 3600, 6342, 8884, 10205, 9506, 7012, 4004, 1729, 546, 119, 16, 1, 0]\n"
     ]
    }
   ],
   "source": [
    "# print the time and the number of freq_items for each iteration\n",
    "print(\"Time for computing C_k: \", [round(t, 3) for t in time_C])\n",
    "print(\"Time for computing L_k: \", [round(t, 3) for t in time_L])\n",
    "\n",
    "print(\"Number of frequent itemsets for C_k: \", num_frequent_itemsets_C)\n",
    "print(\"Number of frequent itemsets for L_k: \", num_frequent_itemsets_L)\n"
   ]
  },
  {
   "cell_type": "code",
   "execution_count": null,
   "id": "0ec8dccf",
   "metadata": {},
   "outputs": [],
   "source": []
  }
 ],
 "metadata": {
  "kernelspec": {
   "display_name": "Python 3 (ipykernel)",
   "language": "python",
   "name": "python3"
  },
  "language_info": {
   "codemirror_mode": {
    "name": "ipython",
    "version": 3
   },
   "file_extension": ".py",
   "mimetype": "text/x-python",
   "name": "python",
   "nbconvert_exporter": "python",
   "pygments_lexer": "ipython3",
   "version": "3.9.13"
  }
 },
 "nbformat": 4,
 "nbformat_minor": 5
}
