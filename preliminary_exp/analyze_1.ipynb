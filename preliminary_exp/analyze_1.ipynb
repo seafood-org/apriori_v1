{
 "cells": [
  {
   "cell_type": "code",
   "execution_count": null,
   "metadata": {},
   "outputs": [
    {
     "ename": "",
     "evalue": "",
     "output_type": "error",
     "traceback": [
      "\u001b[1;31m运行具有“Python 3.10.12”的单元格需要ipykernel包。\n",
      "\u001b[1;31m运行以下命令，将 \"ipykernel\" 安装到 Python 环境中。\n",
      "\u001b[1;31m命令: \"/bin/python3 -m pip install ipykernel -U --user --force-reinstall\""
     ]
    }
   ],
   "source": [
    "import numpy as np\n",
    "import matplotlib.pyplot as plt\n",
    "\n",
    "# 数据\n",
    "clustering_number = [2, 4, 8]\n",
    "C_k = [104.788, 72.678, 48.03]\n",
    "L_k = [12.39, 3.545, 2.5]\n",
    "\n",
    "# 计算(C_k + L_k)\n",
    "C_k_plus_L_k = np.add(C_k, L_k)\n",
    "\n",
    "# 创建画布和子图\n",
    "fig, ax = plt.subplots()\n",
    "\n",
    "# 绘制柱状图\n",
    "bar_width = 0.35\n",
    "opacity = 0.8\n",
    "index = np.arange(len(clustering_number))\n",
    "\n",
    "rects1 = ax.bar(index, C_k, bar_width, alpha=opacity, label='C_k')\n",
    "rects2 = ax.bar(index, C_k_plus_L_k, bar_width, alpha=opacity, label='C_k + L_k')\n",
    "\n",
    "# 设置标题和坐标轴标签\n",
    "ax.set_title('Cumulative Bar Chart')\n",
    "ax.set_xlabel('Clustering Number')\n",
    "ax.set_ylabel('Value')\n",
    "\n",
    "# 设置刻度标签\n",
    "ax.set_xticks(index)\n",
    "ax.set_xticklabels(clustering_number)\n",
    "\n",
    "# 设置图例\n",
    "ax.legend()\n",
    "\n",
    "# 显示图表\n",
    "plt.show()"
   ]
  }
 ],
 "metadata": {
  "kernelspec": {
   "display_name": "Python 3",
   "language": "python",
   "name": "python3"
  },
  "language_info": {
   "name": "python",
   "version": "3.undefined.undefined"
  }
 },
 "nbformat": 4,
 "nbformat_minor": 2
}
