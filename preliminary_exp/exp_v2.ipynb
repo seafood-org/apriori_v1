{
 "cells": [
  {
   "cell_type": "markdown",
   "id": "7c0c8fd5-d437-43ac-be33-564ab9878f37",
   "metadata": {},
   "source": [
    "# Read the data"
   ]
  },
  {
   "cell_type": "code",
   "execution_count": 1,
   "id": "548ee2f0-9fb4-4efa-9d91-6931b4024d33",
   "metadata": {},
   "outputs": [],
   "source": [
    "import time\n",
    "\n",
    "def run(data_file, sup):\n",
    "    # read the data\n",
    "    data = sc.textFile(data_file)\n",
    "\n",
    "    # configurations\n",
    "    SUPPORT = int(sup * data.count())\n",
    "    \n",
    "\n",
    "\n",
    "    # compute frequent-1 itemset\n",
    "\n",
    "    # Create the rdd which stores all the transactions\n",
    "    transactions = data.map(lambda line: line.strip().split())\n",
    "\n",
    "    # Merge all the transactions together\n",
    "    items=transactions.flatMap(lambda x:x)\n",
    "\n",
    "    # calculate the time\n",
    "    start_time_1 = time.time()\n",
    "\n",
    "    # count the frequency of all the items in the merged rdd list\n",
    "    item_counts=items.map(lambda x:(x, 1)).reduceByKey(lambda x,y:x+y)\n",
    "\n",
    "    # get the frequent-1 itemset\n",
    "    L1=item_counts.filter(lambda x:x[1]>=SUPPORT).map(lambda x:x[0])\n",
    "\n",
    "    freq = sc.broadcast(set(L1.collect()))\n",
    "\n",
    "    end_time_1 = time.time()\n",
    "\n",
    "    elapsed_time_1 = end_time_1 - start_time_1\n",
    "\n",
    "    # print(\"Time for computing frequent-1 itemset: \", elapsed_time_1)\n",
    "    \n",
    "    # eliminate all the infrequent items\n",
    "    def purge_itemset(itemsets):\n",
    "        # Only keep frequent items in \n",
    "        return [item for item in itemsets if item in freq.value]\n",
    "    transactions=transactions.map(purge_itemset)\n",
    "    \n",
    "    # Big data algorithm, with pruning\n",
    "    def join_and_pruning(L_k):\n",
    "        if not L_k:\n",
    "            return sc.parallelize([])  # Return an empty RDD if L_k is empty\n",
    "\n",
    "        k = len(L_k[0])\n",
    "        threshold = k * (k + 1) // 2  # Calculate the threshold for pruning\n",
    "\n",
    "        # Parallelize the list and use flatMap to generate (k+1)-itemsets\n",
    "        rdd = sc.parallelize(L_k)\n",
    "        candidate_rdd = rdd.flatMap(lambda x: [\n",
    "            (frozenset(x).union(frozenset(y)), 1) \n",
    "            for y in L_k if len(frozenset(x).union(frozenset(y))) == k + 1\n",
    "        ])\n",
    "\n",
    "        # Reduce by key to count occurrences of each (k+1)-itemset\n",
    "        candidate_count_rdd = candidate_rdd.reduceByKey(lambda a, b: a + b)\n",
    "\n",
    "        # Filter candidates based on the threshold\n",
    "        filtered_candidates_rdd = candidate_count_rdd.filter(lambda x: x[1] >= threshold)\n",
    "\n",
    "        # Convert each frozenset back to list\n",
    "        final_candidates_rdd = filtered_candidates_rdd.map(lambda x: list(x[0]))\n",
    "\n",
    "        return final_candidates_rdd.collect()\n",
    "  \n",
    "    itemset_broadcast=sc.broadcast(transactions.map(lambda x: set(x)).collect())\n",
    "\n",
    "    def support_count(itemset):\n",
    "        # Count how many transactions contain the itemset\n",
    "        count = sum(1 for transaction in itemset_broadcast.value if set(itemset).issubset(transaction))\n",
    "        return (itemset, count)\n",
    "\n",
    "    def get_frequent_set(C_k):\n",
    "        C_k_rdd=sc.parallelize(C_k)\n",
    "        # Map and filter step\n",
    "        L_k = C_k_rdd \\\n",
    "            .map(support_count) \\\n",
    "            .filter(lambda x: x[1] >= SUPPORT) \\\n",
    "            .map(lambda x: x[0]) \\\n",
    "            .collect()\n",
    "        return L_k\n",
    "    \n",
    "    \n",
    "    L_k = [[item] for item in L1.collect()]\n",
    "    k = 2\n",
    "\n",
    "    # store the elapsed time for each iteration\n",
    "    time_C = [0]\n",
    "    time_L = [elapsed_time_1]\n",
    "\n",
    "    # store the number of frequent itemsets for each iteration\n",
    "    num_frequent_itemsets_C = [len(item_counts.map(lambda x:x[0]).collect())]\n",
    "    num_frequent_itemsets_L = [len(L_k)]\n",
    "\n",
    "    while L_k:\n",
    "        print(f'k={k}')\n",
    "        \n",
    "        start_time_C = time.time()  # Start timing for join_and_pruning\n",
    "        \n",
    "        C_k = join_and_pruning(L_k)\n",
    "        \n",
    "        end_time_C = time.time()  # End timing for join_and_pruning\n",
    "        elapsed_time_C = end_time_C - start_time_C\n",
    "        time_C.append(elapsed_time_C)\n",
    "        num_frequent_itemsets_C.append(len(C_k))\n",
    "        \n",
    "        \n",
    "        start_time_L = time.time()  # Start timing for get_frequent_set\n",
    "        \n",
    "        L_k = get_frequent_set(C_k)\n",
    "        \n",
    "        end_time_L = time.time()  # End timing for get_frequent_set\n",
    "        elapsed_time_L = end_time_L - start_time_L\n",
    "        time_L.append(elapsed_time_L)\n",
    "        num_frequent_itemsets_L.append(len(L_k))\n",
    "        \n",
    "        k += 1\n",
    "        \n",
    "    # print the time and the number of freq_items for each iteration\n",
    "    print(\"Time for computing C_k: \", [round(t, 3) for t in time_C])\n",
    "    print(\"Time for computing L_k: \", [round(t, 3) for t in time_L])\n",
    "\n",
    "    print(\"Number of frequent itemsets for C_k: \", num_frequent_itemsets_C)\n",
    "    print(\"Number of frequent itemsets for L_k: \", num_frequent_itemsets_L)\n",
    "    \n",
    "    # print the total time of the time_C and time_L\n",
    "    print(\"Total time for computing C_k: \", round(sum(time_C), 3))\n",
    "    print(\"Total time for computing L_k: \", round(sum(time_L), 3))\n",
    "\n",
    "\n",
    "\n"
   ]
  },
  {
   "cell_type": "code",
   "execution_count": 2,
   "id": "b8741fe4",
   "metadata": {},
   "outputs": [
    {
     "name": "stdout",
     "output_type": "stream",
     "text": [
      "k=2\n",
      "k=3\n",
      "k=4\n",
      "k=5\n"
     ]
    },
    {
     "name": "stderr",
     "output_type": "stream",
     "text": [
      "                                                                                \r"
     ]
    },
    {
     "name": "stdout",
     "output_type": "stream",
     "text": [
      "k=6\n"
     ]
    },
    {
     "name": "stderr",
     "output_type": "stream",
     "text": [
      "                                                                                \r"
     ]
    },
    {
     "name": "stdout",
     "output_type": "stream",
     "text": [
      "k=7\n"
     ]
    },
    {
     "name": "stderr",
     "output_type": "stream",
     "text": [
      "                                                                                \r"
     ]
    },
    {
     "name": "stdout",
     "output_type": "stream",
     "text": [
      "k=8\n"
     ]
    },
    {
     "name": "stderr",
     "output_type": "stream",
     "text": [
      "                                                                                \r"
     ]
    },
    {
     "name": "stdout",
     "output_type": "stream",
     "text": [
      "k=9\n",
      "k=10\n",
      "k=11\n",
      "k=12\n",
      "k=13\n",
      "Time for computing C_k:  [0, 0.1, 0.135, 0.255, 0.881, 2.685, 2.921, 1.521, 0.546, 0.106, 0.042, 0.033, 0.032]\n",
      "Time for computing L_k:  [0.296, 0.054, 0.092, 0.249, 0.271, 0.296, 0.227, 0.111, 0.052, 0.072, 0.073, 0.085, 0.068]\n",
      "Number of frequent itemsets for C_k:  [118, 820, 1252, 2935, 3044, 2938, 2189, 1220, 461, 113, 16, 1, 0]\n",
      "Number of frequent itemsets for L_k:  [41, 304, 1024, 2053, 2820, 2861, 2179, 1208, 461, 113, 16, 1, 0]\n",
      "Total time for computing C_k:  9.257\n",
      "Total time for computing L_k:  1.944\n"
     ]
    }
   ],
   "source": [
    "data_file = \"data/mushroom/data_1_10.dat\"\n",
    "\n",
    "sup = 0.225\n",
    "\n",
    "run(data_file, sup)"
   ]
  }
 ],
 "metadata": {
  "kernelspec": {
   "display_name": "Python 3 (ipykernel)",
   "language": "python",
   "name": "python3"
  },
  "language_info": {
   "codemirror_mode": {
    "name": "ipython",
    "version": 3
   },
   "file_extension": ".py",
   "mimetype": "text/x-python",
   "name": "python",
   "nbconvert_exporter": "python",
   "pygments_lexer": "ipython3",
   "version": "3.9.13"
  }
 },
 "nbformat": 4,
 "nbformat_minor": 5
}
